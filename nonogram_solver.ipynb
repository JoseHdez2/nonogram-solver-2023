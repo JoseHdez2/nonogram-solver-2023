{
  "nbformat": 4,
  "nbformat_minor": 0,
  "metadata": {
    "colab": {
      "provenance": [],
      "authorship_tag": "ABX9TyNnmetRf0dqoYo7/Y9MjYcd",
      "include_colab_link": true
    },
    "kernelspec": {
      "name": "python3",
      "display_name": "Python 3"
    },
    "language_info": {
      "name": "python"
    }
  },
  "cells": [
    {
      "cell_type": "markdown",
      "metadata": {
        "id": "view-in-github",
        "colab_type": "text"
      },
      "source": [
        "<a href=\"https://colab.research.google.com/github/JoseHdez2/nonogram-solver-2023/blob/main/nonogram_solver.ipynb\" target=\"_parent\"><img src=\"https://colab.research.google.com/assets/colab-badge.svg\" alt=\"Open In Colab\"/></a>"
      ]
    },
    {
      "cell_type": "code",
      "source": [
        "'''\n",
        "Convert binary number string to counted nums\n",
        "1011 => [1,2]; 01101110 => [2,3]\n",
        "'''\n",
        "def count_ones(binary_num: str):\n",
        "  sum = 0\n",
        "  arr = []\n",
        "  for c in binary_num:\n",
        "    if c == '0':\n",
        "      if sum > 0:\n",
        "        arr.append(sum)\n",
        "      sum = 0\n",
        "    else:\n",
        "      sum += 1\n",
        "  if sum > 0:\n",
        "    arr.append(sum)\n",
        "  return arr"
      ],
      "metadata": {
        "id": "MCtFi-dJ9Obp"
      },
      "execution_count": 25,
      "outputs": []
    },
    {
      "cell_type": "code",
      "source": [
        "'''\n",
        "Return all possible binary numbers\n",
        "that can be represented in N bits\n",
        "'''\n",
        "def all_binary_nums(size):\n",
        "  nums = []\n",
        "  max = 2**(size)\n",
        "  for n in range(max):\n",
        "    nums.append(format(n,f\"0{size}b\"))\n",
        "  return nums\n",
        "\n",
        "def test_all_binary_nums():\n",
        "  print(all_binary_nums(1))\n",
        "  print(all_binary_nums(2))\n",
        "  print(all_binary_nums(3))\n",
        "  print(all_binary_nums(4))\n",
        "\n",
        "test_all_binary_nums()"
      ],
      "metadata": {
        "colab": {
          "base_uri": "https://localhost:8080/"
        },
        "id": "d_rjfufPDVue",
        "outputId": "b19b8560-27c9-4bb7-8872-559b40ea17d3"
      },
      "execution_count": 36,
      "outputs": [
        {
          "output_type": "stream",
          "name": "stdout",
          "text": [
            "['0', '1']\n",
            "['00', '01', '10', '11']\n",
            "['000', '001', '010', '011', '100', '101', '110', '111']\n",
            "['0000', '0001', '0010', '0011', '0100', '0101', '0110', '0111', '1000', '1001', '1010', '1011', '1100', '1101', '1110', '1111']\n"
          ]
        }
      ]
    },
    {
      "cell_type": "code",
      "source": [
        "'''\n",
        "Return all possible solutions for a hint col/row.\n",
        "'''\n",
        "def brute_force(hint_arr, hint):\n",
        "  "
      ],
      "metadata": {
        "id": "BNOfhPsd6pQ-"
      },
      "execution_count": null,
      "outputs": []
    },
    {
      "cell_type": "code",
      "execution_count": 27,
      "metadata": {
        "colab": {
          "base_uri": "https://localhost:8080/"
        },
        "id": "VHLPH4Hw5SZD",
        "outputId": "13f99ad1-27a3-4235-f2dc-696a47922394"
      },
      "outputs": [
        {
          "output_type": "stream",
          "name": "stdout",
          "text": [
            "1\n",
            "1 [1] False\n",
            "1\n",
            "0\n",
            "10 [1] False\n",
            "0\n",
            "0 [] False\n",
            "0\n",
            "1\n",
            "01 [1] False\n",
            "1\n",
            "0\n",
            "1\n",
            "1\n",
            "1011 [1, 2] False\n",
            "1\n",
            "0\n",
            "1\n",
            "1\n",
            "0\n",
            "0\n",
            "101100 [1, 2] False\n",
            "1\n",
            "0\n",
            "1\n",
            "1\n",
            "0\n",
            "0\n",
            "1\n",
            "1\n",
            "1\n",
            "101100111 [1, 2, 3] False\n"
          ]
        }
      ],
      "source": [
        "def test_count_ones(input, expected):\n",
        "  output = count_ones(input)\n",
        "  print(input, output, input == output)\n",
        "\n",
        "test_count_ones('1', [1])\n",
        "test_count_ones('10', [1])\n",
        "test_count_ones('0', [])\n",
        "test_count_ones('01', [1])\n",
        "test_count_ones('1011', [1,2])\n",
        "test_count_ones('101100', [1,2])\n",
        "test_count_ones('101100111', [1,2,3])\n",
        "\n",
        "size = 5\n",
        "hint = [2,2]"
      ]
    }
  ]
}