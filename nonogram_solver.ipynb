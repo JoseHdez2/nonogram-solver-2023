{
  "nbformat": 4,
  "nbformat_minor": 0,
  "metadata": {
    "colab": {
      "provenance": [],
      "authorship_tag": "ABX9TyMekWVoDektSGiZ7czBRl2b",
      "include_colab_link": true
    },
    "kernelspec": {
      "name": "python3",
      "display_name": "Python 3"
    },
    "language_info": {
      "name": "python"
    }
  },
  "cells": [
    {
      "cell_type": "markdown",
      "metadata": {
        "id": "view-in-github",
        "colab_type": "text"
      },
      "source": [
        "<a href=\"https://colab.research.google.com/github/JoseHdez2/nonogram-solver-2023/blob/main/nonogram_solver.ipynb\" target=\"_parent\"><img src=\"https://colab.research.google.com/assets/colab-badge.svg\" alt=\"Open In Colab\"/></a>"
      ]
    },
    {
      "cell_type": "code",
      "source": [
        "'''\n",
        "Convert binary number string to counted nums\n",
        "1011 => [1,2]; 01101110 => [2,3]\n",
        "'''\n",
        "def count_ones(binary_num: str):\n",
        "  sum = 0\n",
        "  arr = []\n",
        "  for c in binary_num:\n",
        "    if c == '0':\n",
        "      if sum > 0:\n",
        "        arr.append(sum)\n",
        "      sum = 0\n",
        "    else:\n",
        "      sum += 1\n",
        "  if sum > 0:\n",
        "    arr.append(sum)\n",
        "  return arr"
      ],
      "metadata": {
        "id": "MCtFi-dJ9Obp"
      },
      "execution_count": 40,
      "outputs": []
    },
    {
      "cell_type": "code",
      "source": [
        "'''\n",
        "Return all possible binary numbers\n",
        "that can be represented in N bits\n",
        "'''\n",
        "def all_binary_nums(size: int):\n",
        "  nums = []\n",
        "  max = 2**(size)\n",
        "  for n in range(max):\n",
        "    nums.append(format(n,f\"0{size}b\"))\n",
        "  return nums\n",
        "\n",
        "def test_all_binary_nums():\n",
        "  print(all_binary_nums(1))\n",
        "  print(all_binary_nums(2))\n",
        "  print(all_binary_nums(3))\n",
        "  print(all_binary_nums(4))\n",
        "\n",
        "test_all_binary_nums()"
      ],
      "metadata": {
        "colab": {
          "base_uri": "https://localhost:8080/"
        },
        "id": "d_rjfufPDVue",
        "outputId": "6e8e846b-0140-42b8-cd07-884b3a9705f9"
      },
      "execution_count": 50,
      "outputs": [
        {
          "output_type": "stream",
          "name": "stdout",
          "text": [
            "['0', '1']\n",
            "['00', '01', '10', '11']\n",
            "['000', '001', '010', '011', '100', '101', '110', '111']\n",
            "['0000', '0001', '0010', '0011', '0100', '0101', '0110', '0111', '1000', '1001', '1010', '1011', '1100', '1101', '1110', '1111']\n"
          ]
        }
      ]
    },
    {
      "cell_type": "code",
      "execution_count": 51,
      "metadata": {
        "colab": {
          "base_uri": "https://localhost:8080/"
        },
        "id": "VHLPH4Hw5SZD",
        "outputId": "76562e0c-22be-47ba-e302-b361bded4b74"
      },
      "outputs": [
        {
          "output_type": "stream",
          "name": "stdout",
          "text": [
            "1 [1] False\n",
            "10 [1] False\n",
            "0 [] False\n",
            "01 [1] False\n",
            "1011 [1, 2] False\n",
            "101100 [1, 2] False\n",
            "101100111 [1, 2, 3] False\n"
          ]
        }
      ],
      "source": [
        "def test_count_ones(input, expected):\n",
        "  output = count_ones(input)\n",
        "  print(input, output, input == output)\n",
        "\n",
        "test_count_ones('1', [1])\n",
        "test_count_ones('10', [1])\n",
        "test_count_ones('0', [])\n",
        "test_count_ones('01', [1])\n",
        "test_count_ones('1011', [1,2])\n",
        "test_count_ones('101100', [1,2])\n",
        "test_count_ones('101100111', [1,2,3])\n",
        "\n",
        "size = 5\n",
        "hint = [2,2]"
      ]
    },
    {
      "cell_type": "code",
      "source": [
        "if 'functools' not in dir():\n",
        "  import functools\n",
        "\n",
        "'''\n",
        "Return all possible solutions for a hint col/row.\n",
        "'''\n",
        "def brute_force(hint_arr, size):\n",
        "  return [i for i in all_binary_nums(size) if count_ones(i) == hint_arr]\n",
        "\n",
        "def test_brute_force():\n",
        "  print(brute_force([1,2], 6))\n",
        "\n",
        "test_brute_force()"
      ],
      "metadata": {
        "colab": {
          "base_uri": "https://localhost:8080/"
        },
        "id": "BNOfhPsd6pQ-",
        "outputId": "2457e127-a0b3-431f-bf25-c8ae0301718a"
      },
      "execution_count": 52,
      "outputs": [
        {
          "output_type": "stream",
          "name": "stdout",
          "text": [
            "['001011', '010011', '010110', '100011', '100110', '101100']\n"
          ]
        }
      ]
    },
    {
      "cell_type": "code",
      "source": [
        "if 're' not in dir():\n",
        "  import re\n",
        "\n",
        "'''\n",
        "Check if solution could solve partial row.\n",
        "'''\n",
        "def is_valid_sol(sol: str, partial_row: str):\n",
        "  return re.search(partial_row.replace('?', '.'), sol)\n",
        "\n",
        "def test_is_valid_sol():\n",
        "  print(is_valid_sol('101', '1??'))\n",
        "  print(is_valid_sol('101', '11?'))\n",
        "\n",
        "# test_is_valid_sol()\n",
        "\n",
        "def is_valid2(sol: str, p_row: str, hint_arr):\n",
        "  return is_valid_sol(sol, p_row) and count_ones(sol) == hint_arr\n",
        "\n",
        "'''\n",
        "Return all possible solutions for a \n",
        "partially solved row/col.\n",
        "'''\n",
        "def brute_force2(hint_arr, p_row: str):\n",
        "  return [i for i in all_binary_nums(len(p_row)) if is_valid2(i, p_row, hint_arr)]\n",
        "\n",
        "def test_brute_force2():\n",
        "  print(brute_force2([1,2], '01??1?'))\n",
        "\n",
        "test_brute_force2()"
      ],
      "metadata": {
        "colab": {
          "base_uri": "https://localhost:8080/"
        },
        "id": "l1dZSOR7RmGA",
        "outputId": "036c5578-9250-410f-df1c-48531afedfe0"
      },
      "execution_count": 58,
      "outputs": [
        {
          "output_type": "stream",
          "name": "stdout",
          "text": [
            "['010011', '010110']\n"
          ]
        }
      ]
    }
  ]
}